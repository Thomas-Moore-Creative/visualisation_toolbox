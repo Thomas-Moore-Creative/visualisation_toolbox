{
 "cells": [
  {
   "cell_type": "code",
   "execution_count": null,
   "id": "af91f14b-651a-4035-a974-318e383a6990",
   "metadata": {},
   "outputs": [],
   "source": [
    "import intake\n",
    "import xarray as xr\n",
    "import pandas as pd\n",
    "import numpy as np\n",
    "from matplotlib import pyplot as plt"
   ]
  },
  {
   "cell_type": "code",
   "execution_count": null,
   "id": "59db3a7c-16ee-4cc9-8b78-c72bd23c1647",
   "metadata": {},
   "outputs": [],
   "source": [
    "from dask.distributed import Client\n",
    "client = Client(threads_per_worker=1)\n",
    "client"
   ]
  },
  {
   "cell_type": "code",
   "execution_count": null,
   "id": "05b3904f-23fe-45aa-b4aa-abd720f7b21c",
   "metadata": {},
   "outputs": [],
   "source": [
    "%%time\n",
    "catalog_path = '/g/data/v14/tm4888/code/BRAN2020-intake-catalog/catalogs/'\n",
    "BRAN2020_catalog = intake.open_esm_datastore(catalog_path+'BRAN2020.json', columns_with_iterables=['variable']) # load catalogue\n",
    "search_uv_month = BRAN2020_catalog.search(variable=['u','v'],time_period='month') # search and filter data by variables and time period\n",
    "DS = search_uv_month.to_dask() # load data lazily with Dask\n",
    "DS_slice = DS.sel(st_ocean= slice(0,300)).sel(xu_ocean=slice(130,250)).sel(yu_ocean=slice(-30,30)).mean('st_ocean') # slice out reduced XYZ subset required\n",
    "clim_uv = DS_slice.groupby('Time.month').mean(method=\"cohorts\", engine=\"flox\") ## calculate climatology & chunking rules everything!\n",
    "speed = np.sqrt(clim_uv.u**2 + clim_uv.v**2) # calculate current speeds\n",
    "speed.sel(month=8).plot(robust=True) #plot\n",
    "plt.title('BRAN2020 current speed\\n August climatology')"
   ]
  },
  {
   "cell_type": "markdown",
   "id": "a76c6e91-0f07-4285-ae68-b80fedf8e82b",
   "metadata": {},
   "source": [
    "# compute uv climatology over upper 300m "
   ]
  },
  {
   "cell_type": "code",
   "execution_count": null,
   "id": "fb2c8420-93e7-481a-a52b-0d792dcc0fd3",
   "metadata": {},
   "outputs": [],
   "source": [
    "%%time\n",
    "clim_uv = clim_uv.compute()"
   ]
  },
  {
   "cell_type": "code",
   "execution_count": null,
   "id": "f2e0c24e-3542-4e2a-985b-648bf92035a1",
   "metadata": {},
   "outputs": [],
   "source": [
    "%%time\n",
    "speed = speed.compute()"
   ]
  },
  {
   "cell_type": "markdown",
   "id": "ae4fcfee-1c15-44fe-9807-da4663eebccf",
   "metadata": {},
   "source": [
    "# write out to scratch"
   ]
  },
  {
   "cell_type": "code",
   "execution_count": null,
   "id": "d585e4e7-98e9-40f5-8ddd-edd94525a3f7",
   "metadata": {},
   "outputs": [],
   "source": [
    "PICOSOM_BRAN2020_uv_speed = xr.merge([speed.rename('speed'),clim_uv])"
   ]
  },
  {
   "cell_type": "code",
   "execution_count": null,
   "id": "f5bc81c9-7547-4ecd-a6eb-b2f9a2817c08",
   "metadata": {},
   "outputs": [],
   "source": [
    "PICOSOM_BRAN2020_uv_speed"
   ]
  },
  {
   "cell_type": "code",
   "execution_count": null,
   "id": "cbdba6fa-d895-419c-81af-caf3700f29dd",
   "metadata": {},
   "outputs": [],
   "source": [
    "%%time\n",
    "PICOSOM_BRAN2020_uv_speed.to_netcdf('/scratch/xv83/tm4888/PICOSOM_BRAN2020/PICOSOM_BRAN2020_uv_speed.nc')"
   ]
  },
  {
   "cell_type": "markdown",
   "id": "82a311d2-69d9-477f-8e91-52415aba3c3d",
   "metadata": {},
   "source": [
    "# read in from nc file"
   ]
  },
  {
   "cell_type": "code",
   "execution_count": null,
   "id": "53f1c92a-d44f-40d7-b93f-3874b3acb4d7",
   "metadata": {},
   "outputs": [],
   "source": [
    "PICOSOM_BRAN2020_uv_speed_ = xr.open_dataset('/scratch/xv83/tm4888/PICOSOM_BRAN2020/PICOSOM_BRAN2020_uv_speed.nc')"
   ]
  },
  {
   "cell_type": "code",
   "execution_count": null,
   "id": "67623359-4a3d-4194-9679-2211ad1e111f",
   "metadata": {},
   "outputs": [],
   "source": [
    "PICOSOM_BRAN2020_uv_speed_"
   ]
  },
  {
   "cell_type": "code",
   "execution_count": null,
   "id": "290813fc-4107-4ea6-8bad-159f04f5f4d5",
   "metadata": {
    "tags": []
   },
   "outputs": [],
   "source": [
    "import matplotlib.pyplot as plt\n",
    "from matplotlib.ticker import (MultipleLocator, FormatStrFormatter,\n",
    "                               AutoMinorLocator)\n",
    "import matplotlib.ticker as ticker\n",
    "import cartopy.crs as ccrs\n",
    "import cartopy.feature as cfeature\n",
    "import cartopy\n",
    "from matplotlib import mlab, cm, gridspec\n",
    "import matplotlib.ticker as mticker\n",
    "from cartopy.mpl.ticker import LongitudeFormatter, LatitudeFormatter\n",
    "from cartopy.mpl.gridliner import LONGITUDE_FORMATTER, LATITUDE_FORMATTER\n",
    "import cmocean\n",
    "%matplotlib inline"
   ]
  },
  {
   "cell_type": "code",
   "execution_count": null,
   "id": "bcf7631e-01ce-445d-a5ac-cc136e455739",
   "metadata": {},
   "outputs": [],
   "source": [
    "def plot_currents_PlateCarree(central_longitude=180,figsize=(16,16),extent=[130, 290, -60, 30],\n",
    "                    xticks=[150, 180, 210,240,270],yticks=[-30, -20,-10, 0, 10,20, 30],\n",
    "                    xstride=10,ystride=10,my_plot_title='my_plot_title',optional_plot_data=None,\n",
    "                    cmap='Spectral_r',\n",
    "                    cbar_kwargs = None,\n",
    "                    **kwargs):\n",
    "    \"\"\"\n",
    "    plot_PlateCarree()\n",
    "    - Make a geographic plot with the PlateCarree projection.\n",
    "    - This function is tailored for \"pacific centred\" plots but could be used more generally.\n",
    "\n",
    "    :param central_longitude: central_longitude value - default is 180\n",
    "    :type central_longitude: int or float\n",
    "    :param figsize: \"figsize\" kwarg for `plt.subplots`\n",
    "    :type figsize: tuple of ints or floats\n",
    "    :param extent: geographical extent of plot boundaries\n",
    "    :type extent: list of 4 ints or floats as [x1,x2,y1,y2]\n",
    "    :param xticks: list of x tick labels to draw\n",
    "    :type xticks: list of ints or floats or empty list\n",
    "    :param yticks: list of y tick labels to draw\n",
    "    :type yticks: list of ints or floats or empty list\n",
    "    :param xstride: stride of longitude grid in degrees - default is 10\n",
    "    :type xstride: int\n",
    "    :param ystride: stride of longitude grid in degrees - default is 10\n",
    "    :type ystride: int\n",
    "    :param optional_plot_data: xarray object to plot in 2D\n",
    "    :type optional_plot_data: 2D xarray object\n",
    "    :return: plot\n",
    "    :rtype: plot\n",
    "    :raises TypeError: TBD\n",
    "\n",
    "    :typical use: plot_PlateCarree(optional_plot_data=plot_data,x='longitude',y='latitude',\n",
    "    :levels=100,cbar_kwargs={'orientation':'horizontal', 'shrink':0.6, \"pad\" : .05, 'aspect':40},cmap = cmocean.cm.thermal,robust=True,vmin=0, vmax=31)\n",
    "    \"\"\"\n",
    "    long_list = np.arange(-180, 180, xstride)\n",
    "    lat_list = np.arange(-90, 90, ystride)\n",
    "                        \n",
    "    proj = ccrs.PlateCarree(central_longitude=central_longitude)\n",
    "\n",
    "    fig, ax = plt.subplots(subplot_kw=dict(projection=proj), figsize=figsize)\n",
    "    #fig.canvas.draw()\n",
    "    \n",
    "    resolution='50m'\n",
    "    land = cartopy.feature.NaturalEarthFeature('physical', 'land', \\\n",
    "        scale=resolution, edgecolor='k', facecolor=cfeature.COLORS['land'])\n",
    "    ax.add_feature(land)\n",
    "\n",
    "\n",
    "    gl = ax.gridlines(crs=proj, draw_labels=False, alpha=0.3, linewidth=0.5)\n",
    "    gl.xlocator = mticker.FixedLocator(long_list)\n",
    "    gl.ylocator = mticker.FixedLocator(lat_list)\n",
    "\n",
    "    ax.set_xticks(xticks, crs=ccrs.PlateCarree())\n",
    "    ax.set_yticks(yticks, crs=ccrs.PlateCarree())\n",
    "    lon_formatter = LongitudeFormatter(zero_direction_label=True)\n",
    "    lat_formatter = LatitudeFormatter()\n",
    "    ax.xaxis.set_major_formatter(lon_formatter)\n",
    "    ax.yaxis.set_major_formatter(lat_formatter)\n",
    "    if optional_plot_data is not None:\n",
    "        ##### plotting #####\n",
    "        optional_plot_data.plot.contourf(ax=ax, transform=ccrs.PlateCarree(), cbar_kwargs=cbar_kwargs, **kwargs, \n",
    "                                robust=True,cmap = cmap,add_colorbar=False)\n",
    "    #plot u/v vectors\n",
    "    # Define the x and y coordinates\n",
    "    x = PICOSOM_BRAN2020_uv_speed_.xu_ocean\n",
    "    y = PICOSOM_BRAN2020_uv_speed_.yu_ocean\n",
    "    ax.quiver(x.values,y.values,u.values,v.values,transform=ccrs.PlateCarree(), \n",
    "              units='x', width=0.01, scale=0.7, headwidth=5,alpha=0.2)\n",
    "    ax.set_extent(extent, crs=ccrs.PlateCarree())\n",
    "    # Hide the axis label\n",
    "    ax.set_ylabel('')\n",
    "    ax.set_xlabel('')\n",
    "    plt.title(my_plot_title)\n",
    "    #plt.show()\n",
    "    plot_DIR = '/scratch/xv83/tm4888/PICOSOM_BRAN2020/'\n",
    "    plot_file_name = 'PICOSOM_BRAN2020_'+month_str+'_'+region_str+'.png'\n",
    "    plot_path = plot_DIR + plot_file_name\n",
    "    fig.tight_layout()\n",
    "    plt.savefig(plot_path, dpi = 600, bbox_inches='tight')"
   ]
  },
  {
   "cell_type": "code",
   "execution_count": null,
   "id": "75a2c222-175e-4fe5-a5e0-4d84f9c8692b",
   "metadata": {},
   "outputs": [],
   "source": []
  },
  {
   "cell_type": "raw",
   "id": "b3103bf8-3810-491d-8ab6-2dd16f5f194a",
   "metadata": {
    "tags": []
   },
   "source": [
    "%%time\n",
    "for time_choice in range(1,13):\n",
    "    u = PICOSOM_BRAN2020_uv_speed_.u.sel(month=time_choice)\n",
    "    v = PICOSOM_BRAN2020_uv_speed_.v.sel(month=time_choice)\n",
    "    speed = PICOSOM_BRAN2020_uv_speed_.speed.sel(month=time_choice)\n",
    "\n",
    "    #plot model data\n",
    "    transform = ccrs.PlateCarree()\n",
    "    cmap = 'Spectral_r'\n",
    "    cbar_label='current speed'\n",
    "    plot_data = speed\n",
    "\n",
    "    ###\n",
    "    fig = plt.figure(num=None, figsize=(16, 9), dpi=600, facecolor='w', edgecolor='k')\n",
    "    ax = plt.subplot(projection=ccrs.PlateCarree(180))\n",
    "    ax.set_extent([130,250, -30, 30], ccrs.PlateCarree())\n",
    "    ax.add_feature(cfeature.NaturalEarthFeature('physical', 'land', '50m', edgecolor='face', facecolor='white'))\n",
    "    ax.coastlines('50m',linewidth=0.5,edgecolor='grey')\n",
    "    plot_data.plot(transform=transform,cmap=cmap,robust=True,add_colorbar=False)\n",
    "\n",
    "    #plot u/v vectors\n",
    "    # Define the x and y coordinates\n",
    "    x = PICOSOM_BRAN2020_uv_speed_.xu_ocean\n",
    "    y = PICOSOM_BRAN2020_uv_speed_.yu_ocean\n",
    "    ax.quiver(x.values,y.values,u.values,v.values,transform=transform, units='x', width=0.01, scale=0.7, headwidth=2,alpha=0.2)\n",
    "    #ax.set_title('BRAN2020 1993-2022\\ncurrent speed \\n August Climatology')\n",
    "    plot_DIR = '/scratch/xv83/tm4888/PICOSOM_BRAN2020/'\n",
    "    plot_file_name = 'PICOSOM_BRAN2020_'+str(time_choice)+'.png'\n",
    "    plot_path = plot_DIR + plot_file_name\n",
    "    plt.savefig(plot_path, dpi = 600, bbox_inches='tight')"
   ]
  },
  {
   "cell_type": "code",
   "execution_count": null,
   "id": "15f3e7b7-eaa7-4824-acad-180f01be190e",
   "metadata": {
    "scrolled": true
   },
   "outputs": [],
   "source": [
    "%%time\n",
    "time_choice = 1\n",
    "u = PICOSOM_BRAN2020_uv_speed_.u.sel(month=time_choice)\n",
    "v = PICOSOM_BRAN2020_uv_speed_.v.sel(month=time_choice)\n",
    "speed = PICOSOM_BRAN2020_uv_speed_.speed.sel(month=time_choice)\n",
    "month_list = ['Jan', 'Feb', 'Mar', 'Apr', 'May', 'Jun', 'Jul', 'Aug', 'Sep', 'Oct', 'Nov', 'Dec']\n",
    "extent_PAC = [130,250,-30,30]\n",
    "extent_Fiji = [160,190,-25,-10]\n",
    "extent_PNG = [130,160,-15,5]\n",
    "extent_Palau = [130,160,0,20]\n",
    "extent_Marshalls = [165,210,-5,20]\n",
    "month_str = month_list[time_choice-1]\n",
    "plot_currents_PlateCarree(optional_plot_data=speed,extent=extent_PAC,levels=75,my_plot_title='BRAN2020 reanalysis\\n upper 300m currents\\n'+month_str+' climatology')"
   ]
  },
  {
   "cell_type": "code",
   "execution_count": null,
   "id": "2b45de1d-c17c-429c-8d42-04c77cff9809",
   "metadata": {},
   "outputs": [],
   "source": [
    "month_list = ['Jan', 'Feb', 'Mar', 'Apr', 'May', 'Jun', 'Jul', 'Aug', 'Sep', 'Oct', 'Nov', 'Dec']\n",
    "extent_PAC = [130,250,-30,30]\n",
    "extent_Fiji = [160,190,-25,-10]\n",
    "extent_PNG = [130,160,-15,5]\n",
    "extent_Palau = [130,160,0,20]\n",
    "extent_Marshalls = [165,210,-5,20]\n",
    "regions = ['Pacific','Fiji','PNG','Palau','Marshalls']\n",
    "extent_dict = {'Pacific':extent_PAC,'Fiji':extent_Fiji,'PNG':extent_PNG,'Palau':extent_Palau,'Marshalls':extent_Marshalls}"
   ]
  },
  {
   "cell_type": "code",
   "execution_count": null,
   "id": "d09a1fa2-2418-4568-8f1c-b3dd45af1d00",
   "metadata": {},
   "outputs": [],
   "source": [
    "extent_dict['Pacific']"
   ]
  },
  {
   "cell_type": "code",
   "execution_count": null,
   "id": "7f8894c4-58df-49a7-b837-516594017776",
   "metadata": {},
   "outputs": [],
   "source": [
    "%%time\n",
    "for region_str in regions:\n",
    "    region_extent = extent_dict[region_str]\n",
    "    for time_choice in range(1,13):\n",
    "        u = PICOSOM_BRAN2020_uv_speed_.u.sel(month=time_choice)\n",
    "        v = PICOSOM_BRAN2020_uv_speed_.v.sel(month=time_choice)\n",
    "        speed = PICOSOM_BRAN2020_uv_speed_.speed.sel(month=time_choice)\n",
    "        month_str = month_list[time_choice-1]\n",
    "        plot_currents_PlateCarree(optional_plot_data=speed,\n",
    "                                  extent=region_extent,levels=75,\n",
    "                                  my_plot_title='BRAN2020 reanalysis\\n upper 300m currents\\n'+month_str+' climatology')"
   ]
  },
  {
   "cell_type": "code",
   "execution_count": null,
   "id": "764ab84a",
   "metadata": {},
   "outputs": [],
   "source": []
  }
 ],
 "metadata": {
  "kernelspec": {
   "display_name": "Python 3 (ipykernel)",
   "language": "python",
   "name": "python3"
  },
  "language_info": {
   "codemirror_mode": {
    "name": "ipython",
    "version": 3
   },
   "file_extension": ".py",
   "mimetype": "text/x-python",
   "name": "python",
   "nbconvert_exporter": "python",
   "pygments_lexer": "ipython3",
   "version": "3.10.12"
  }
 },
 "nbformat": 4,
 "nbformat_minor": 5
}
