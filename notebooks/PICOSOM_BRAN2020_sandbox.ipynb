{
 "cells": [
  {
   "cell_type": "code",
   "execution_count": null,
   "id": "af91f14b-651a-4035-a974-318e383a6990",
   "metadata": {},
   "outputs": [],
   "source": [
    "import intake\n",
    "import xarray as xr\n",
    "import pandas as pd\n",
    "import numpy as np\n",
    "from matplotlib import pyplot as plt"
   ]
  },
  {
   "cell_type": "code",
   "execution_count": null,
   "id": "59db3a7c-16ee-4cc9-8b78-c72bd23c1647",
   "metadata": {},
   "outputs": [],
   "source": [
    "from dask.distributed import Client\n",
    "client = Client(threads_per_worker=1)\n",
    "client"
   ]
  },
  {
   "cell_type": "code",
   "execution_count": null,
   "id": "05b3904f-23fe-45aa-b4aa-abd720f7b21c",
   "metadata": {},
   "outputs": [],
   "source": [
    "%%time\n",
    "catalog_path = '/g/data/v14/tm4888/code/BRAN2020-intake-catalog/catalogs/'\n",
    "BRAN2020_catalog = intake.open_esm_datastore(catalog_path+'BRAN2020.json', columns_with_iterables=['variable']) # load catalogue\n",
    "search_uv_month = BRAN2020_catalog.search(variable=['u','v'],time_period='month') # search and filter data by variables and time period\n",
    "DS = search_uv_month.to_dask() # load data lazily with Dask\n",
    "DS_slice = DS.sel(st_ocean= slice(0,300)).sel(xu_ocean=slice(130,250)).sel(yu_ocean=slice(-30,30)).mean('st_ocean') # slice out reduced XYZ subset required\n",
    "clim_uv = DS_slice.groupby('Time.month').mean(method=\"cohorts\", engine=\"flox\") ## calculate climatology & chunking rules everything!\n",
    "speed = np.sqrt(clim_uv.u**2 + clim_uv.v**2) # calculate current speeds\n",
    "speed.sel(month=8).plot(robust=True) #plot\n",
    "plt.title('BRAN2020 current speed\\n August climatology')"
   ]
  },
  {
   "cell_type": "markdown",
   "id": "a76c6e91-0f07-4285-ae68-b80fedf8e82b",
   "metadata": {},
   "source": [
    "# compute uv climatology over upper 300m "
   ]
  },
  {
   "cell_type": "code",
   "execution_count": null,
   "id": "fb2c8420-93e7-481a-a52b-0d792dcc0fd3",
   "metadata": {},
   "outputs": [],
   "source": [
    "%%time\n",
    "clim_uv = clim_uv.compute()"
   ]
  },
  {
   "cell_type": "code",
   "execution_count": null,
   "id": "f2e0c24e-3542-4e2a-985b-648bf92035a1",
   "metadata": {},
   "outputs": [],
   "source": [
    "%%time\n",
    "speed = speed.compute()"
   ]
  },
  {
   "cell_type": "markdown",
   "id": "ae4fcfee-1c15-44fe-9807-da4663eebccf",
   "metadata": {},
   "source": [
    "# write out to scratch"
   ]
  },
  {
   "cell_type": "code",
   "execution_count": null,
   "id": "d585e4e7-98e9-40f5-8ddd-edd94525a3f7",
   "metadata": {},
   "outputs": [],
   "source": [
    "PICOSOM_BRAN2020_uv_speed = xr.merge([speed.rename('speed'),clim_uv])"
   ]
  },
  {
   "cell_type": "code",
   "execution_count": null,
   "id": "f5bc81c9-7547-4ecd-a6eb-b2f9a2817c08",
   "metadata": {},
   "outputs": [],
   "source": [
    "PICOSOM_BRAN2020_uv_speed"
   ]
  },
  {
   "cell_type": "code",
   "execution_count": null,
   "id": "cbdba6fa-d895-419c-81af-caf3700f29dd",
   "metadata": {},
   "outputs": [],
   "source": [
    "%%time\n",
    "PICOSOM_BRAN2020_uv_speed.to_netcdf('/scratch/xv83/tm4888/PICOSOM_BRAN2020/PICOSOM_BRAN2020_uv_speed.nc')"
   ]
  },
  {
   "cell_type": "markdown",
   "id": "82a311d2-69d9-477f-8e91-52415aba3c3d",
   "metadata": {},
   "source": [
    "# read in from nc file"
   ]
  },
  {
   "cell_type": "code",
   "execution_count": null,
   "id": "53f1c92a-d44f-40d7-b93f-3874b3acb4d7",
   "metadata": {},
   "outputs": [],
   "source": [
    "PICOSOM_BRAN2020_uv_speed_ = xr.open_dataset('/scratch/xv83/tm4888/PICOSOM_BRAN2020/PICOSOM_BRAN2020_uv_speed.nc')"
   ]
  },
  {
   "cell_type": "code",
   "execution_count": null,
   "id": "67623359-4a3d-4194-9679-2211ad1e111f",
   "metadata": {},
   "outputs": [],
   "source": [
    "PICOSOM_BRAN2020_uv_speed_"
   ]
  },
  {
   "cell_type": "code",
   "execution_count": null,
   "id": "290813fc-4107-4ea6-8bad-159f04f5f4d5",
   "metadata": {
    "tags": []
   },
   "outputs": [],
   "source": [
    "import matplotlib.pyplot as plt\n",
    "from matplotlib.ticker import (MultipleLocator, FormatStrFormatter,\n",
    "                               AutoMinorLocator)\n",
    "import matplotlib.ticker as ticker\n",
    "import cartopy.crs as ccrs\n",
    "import cartopy.feature as cfeature\n",
    "import cartopy\n",
    "from matplotlib import mlab, cm, gridspec\n",
    "import matplotlib.ticker as mticker\n",
    "from cartopy.mpl.gridliner import LONGITUDE_FORMATTER, LATITUDE_FORMATTER\n",
    "%matplotlib inline "
   ]
  },
  {
   "cell_type": "code",
   "execution_count": null,
   "id": "c9bada36-59af-464e-86bc-d5f868f1b5f2",
   "metadata": {
    "tags": []
   },
   "outputs": [],
   "source": [
    "%%time\n",
    "for time_choice in range(1,13):\n",
    "    u = PICOSOM_BRAN2020_uv_speed_.u.sel(month=time_choice)\n",
    "    v = PICOSOM_BRAN2020_uv_speed_.v.sel(month=time_choice)\n",
    "    speed = PICOSOM_BRAN2020_uv_speed_.speed.sel(month=time_choice)\n",
    "\n",
    "    #plot model data\n",
    "    transform = ccrs.PlateCarree()\n",
    "    cmap = 'Spectral_r'\n",
    "    cbar_label='current speed'\n",
    "    plot_data = speed\n",
    "\n",
    "    ###\n",
    "    fig = plt.figure(num=None, figsize=(16, 9), dpi=600, facecolor='w', edgecolor='k')\n",
    "    ax = plt.subplot(projection=ccrs.PlateCarree(180))\n",
    "    ax.set_extent([130,250, -30, 30], ccrs.PlateCarree())\n",
    "    ax.add_feature(cfeature.NaturalEarthFeature('physical', 'land', '50m', edgecolor='face', facecolor='white'))\n",
    "    ax.coastlines('50m',linewidth=0.5,edgecolor='grey')\n",
    "    plot_data.plot(transform=transform,cmap=cmap,robust=True,add_colorbar=False)\n",
    "\n",
    "    #plot u/v vectors\n",
    "    # Define the x and y coordinates\n",
    "    x = PICOSOM_BRAN2020_uv_speed_.xu_ocean\n",
    "    y = PICOSOM_BRAN2020_uv_speed_.yu_ocean\n",
    "    ax.quiver(x.values,y.values,u.values,v.values,transform=transform, units='x', width=0.01, scale=0.7, headwidth=2,alpha=0.2)\n",
    "    #ax.set_title('BRAN2020 1993-2022\\ncurrent speed \\n August Climatology')\n",
    "    plot_DIR = '/scratch/xv83/tm4888/PICOSOM_BRAN2020/'\n",
    "    plot_file_name = 'PICOSOM_BRAN2020_'+str(time_choice)+'.png'\n",
    "    plot_path = plot_DIR + plot_file_name\n",
    "    plt.savefig(plot_path, dpi = 600, bbox_inches='tight')"
   ]
  },
  {
   "cell_type": "code",
   "execution_count": null,
   "id": "15f3e7b7-eaa7-4824-acad-180f01be190e",
   "metadata": {},
   "outputs": [],
   "source": []
  },
  {
   "cell_type": "code",
   "execution_count": null,
   "id": "7f8894c4-58df-49a7-b837-516594017776",
   "metadata": {},
   "outputs": [],
   "source": []
  },
  {
   "cell_type": "code",
   "execution_count": null,
   "id": "764ab84a",
   "metadata": {},
   "outputs": [],
   "source": []
  }
 ],
 "metadata": {
  "kernelspec": {
   "display_name": "Python 3 (ipykernel)",
   "language": "python",
   "name": "python3"
  },
  "language_info": {
   "codemirror_mode": {
    "name": "ipython",
    "version": 3
   },
   "file_extension": ".py",
   "mimetype": "text/x-python",
   "name": "python",
   "nbconvert_exporter": "python",
   "pygments_lexer": "ipython3",
   "version": "3.10.12"
  }
 },
 "nbformat": 4,
 "nbformat_minor": 5
}
